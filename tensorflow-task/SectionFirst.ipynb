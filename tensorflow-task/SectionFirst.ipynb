{
  "nbformat": 4,
  "nbformat_minor": 0,
  "metadata": {
    "colab": {
      "name": "Packt_1.3_1.ipynb",
      "version": "0.3.2",
      "provenance": [],
      "collapsed_sections": []
    },
    "kernelspec": {
      "name": "python3",
      "display_name": "Python 3"
    }
  },
  "cells": [
    {
      "cell_type": "markdown",
      "metadata": {
        "id": "-IZv05z7nnlY",
        "colab_type": "text"
      },
      "source": [
        "# Getting Started with TensorFlow 2.0 in 7 Days\n",
        "## 1.3 Getting Started"
      ]
    },
    {
      "cell_type": "markdown",
      "metadata": {
        "id": "6s7UKDFroyHT",
        "colab_type": "text"
      },
      "source": [
        "### Install TensorFlow"
      ]
    },
    {
      "cell_type": "code",
      "metadata": {
        "id": "aF3NnwXZnhQl",
        "colab_type": "code",
        "outputId": "b254acd9-7791-4176-a3df-63a4bfebc7c0",
        "colab": {
          "base_uri": "https://localhost:8080/",
          "height": 591
        }
      },
      "source": [
        "# install tensorflow\n",
        "!pip install tensorflow==2.0.0-beta0"
      ],
      "execution_count": 1,
      "outputs": [
        {
          "output_type": "stream",
          "text": [
            "Collecting tensorflow==2.0.0-beta0\n",
            "\u001b[?25l  Downloading https://files.pythonhosted.org/packages/6c/19/0d0c7f240db7bcd6b83783b9a89a67f38584d100e23ad5ae93114be92232/tensorflow-2.0.0b0-cp36-cp36m-manylinux1_x86_64.whl (87.9MB)\n",
            "\u001b[K     |████████████████████████████████| 87.9MB 425kB/s \n",
            "\u001b[?25hRequirement already satisfied: absl-py>=0.7.0 in /usr/local/lib/python3.6/dist-packages (from tensorflow==2.0.0-beta0) (0.7.1)\n",
            "Requirement already satisfied: wrapt>=1.11.1 in /usr/local/lib/python3.6/dist-packages (from tensorflow==2.0.0-beta0) (1.11.1)\n",
            "Requirement already satisfied: astor>=0.6.0 in /usr/local/lib/python3.6/dist-packages (from tensorflow==2.0.0-beta0) (0.8.0)\n",
            "Requirement already satisfied: protobuf>=3.6.1 in /usr/local/lib/python3.6/dist-packages (from tensorflow==2.0.0-beta0) (3.7.1)\n",
            "Collecting tb-nightly<1.14.0a20190604,>=1.14.0a20190603 (from tensorflow==2.0.0-beta0)\n",
            "\u001b[?25l  Downloading https://files.pythonhosted.org/packages/a4/96/571b875cd81dda9d5dfa1422a4f9d749e67c0a8d4f4f0b33a4e5f5f35e27/tb_nightly-1.14.0a20190603-py3-none-any.whl (3.1MB)\n",
            "\u001b[K     |████████████████████████████████| 3.1MB 33.3MB/s \n",
            "\u001b[?25hRequirement already satisfied: termcolor>=1.1.0 in /usr/local/lib/python3.6/dist-packages (from tensorflow==2.0.0-beta0) (1.1.0)\n",
            "Requirement already satisfied: wheel>=0.26 in /usr/local/lib/python3.6/dist-packages (from tensorflow==2.0.0-beta0) (0.33.4)\n",
            "Requirement already satisfied: six>=1.10.0 in /usr/local/lib/python3.6/dist-packages (from tensorflow==2.0.0-beta0) (1.12.0)\n",
            "Collecting google-pasta>=0.1.6 (from tensorflow==2.0.0-beta0)\n",
            "\u001b[?25l  Downloading https://files.pythonhosted.org/packages/d0/33/376510eb8d6246f3c30545f416b2263eee461e40940c2a4413c711bdf62d/google_pasta-0.1.7-py3-none-any.whl (52kB)\n",
            "\u001b[K     |████████████████████████████████| 61kB 21.1MB/s \n",
            "\u001b[?25hRequirement already satisfied: keras-preprocessing>=1.0.5 in /usr/local/lib/python3.6/dist-packages (from tensorflow==2.0.0-beta0) (1.1.0)\n",
            "Requirement already satisfied: numpy<2.0,>=1.14.5 in /usr/local/lib/python3.6/dist-packages (from tensorflow==2.0.0-beta0) (1.16.4)\n",
            "Collecting tf-estimator-nightly<1.14.0.dev2019060502,>=1.14.0.dev2019060501 (from tensorflow==2.0.0-beta0)\n",
            "\u001b[?25l  Downloading https://files.pythonhosted.org/packages/32/dd/99c47dd007dcf10d63fd895611b063732646f23059c618a373e85019eb0e/tf_estimator_nightly-1.14.0.dev2019060501-py2.py3-none-any.whl (496kB)\n",
            "\u001b[K     |████████████████████████████████| 501kB 34.0MB/s \n",
            "\u001b[?25hRequirement already satisfied: grpcio>=1.8.6 in /usr/local/lib/python3.6/dist-packages (from tensorflow==2.0.0-beta0) (1.15.0)\n",
            "Requirement already satisfied: gast>=0.2.0 in /usr/local/lib/python3.6/dist-packages (from tensorflow==2.0.0-beta0) (0.2.2)\n",
            "Requirement already satisfied: keras-applications>=1.0.6 in /usr/local/lib/python3.6/dist-packages (from tensorflow==2.0.0-beta0) (1.0.8)\n",
            "Requirement already satisfied: setuptools in /usr/local/lib/python3.6/dist-packages (from protobuf>=3.6.1->tensorflow==2.0.0-beta0) (41.0.1)\n",
            "Requirement already satisfied: markdown>=2.6.8 in /usr/local/lib/python3.6/dist-packages (from tb-nightly<1.14.0a20190604,>=1.14.0a20190603->tensorflow==2.0.0-beta0) (3.1.1)\n",
            "Requirement already satisfied: werkzeug>=0.11.15 in /usr/local/lib/python3.6/dist-packages (from tb-nightly<1.14.0a20190604,>=1.14.0a20190603->tensorflow==2.0.0-beta0) (0.15.4)\n",
            "Requirement already satisfied: h5py in /usr/local/lib/python3.6/dist-packages (from keras-applications>=1.0.6->tensorflow==2.0.0-beta0) (2.8.0)\n",
            "Installing collected packages: tb-nightly, google-pasta, tf-estimator-nightly, tensorflow\n",
            "  Found existing installation: tensorflow 1.13.1\n",
            "    Uninstalling tensorflow-1.13.1:\n",
            "      Successfully uninstalled tensorflow-1.13.1\n",
            "Successfully installed google-pasta-0.1.7 tb-nightly-1.14.0a20190603 tensorflow-2.0.0b0 tf-estimator-nightly-1.14.0.dev2019060501\n"
          ],
          "name": "stdout"
        }
      ]
    },
    {
      "cell_type": "markdown",
      "metadata": {
        "id": "QagzUi2Go1qy",
        "colab_type": "text"
      },
      "source": [
        "### Import TensorFlow"
      ]
    },
    {
      "cell_type": "code",
      "metadata": {
        "id": "ysoJEX7yorKg",
        "colab_type": "code",
        "colab": {}
      },
      "source": [
        "import tensorflow as tf"
      ],
      "execution_count": 0,
      "outputs": []
    },
    {
      "cell_type": "code",
      "metadata": {
        "id": "Ad_HSZLNbqnL",
        "colab_type": "code",
        "colab": {
          "base_uri": "https://localhost:8080/",
          "height": 34
        },
        "outputId": "49ed17c8-4fb9-4133-8730-41b0c91d5ded"
      },
      "source": [
        "print(tf.__version__)"
      ],
      "execution_count": 3,
      "outputs": [
        {
          "output_type": "stream",
          "text": [
            "2.0.0-beta0\n"
          ],
          "name": "stdout"
        }
      ]
    },
    {
      "cell_type": "markdown",
      "metadata": {
        "id": "hzMkyK_KpUOW",
        "colab_type": "text"
      },
      "source": [
        "Numeric Python lets us carry out numerical operations in Python, such as declaring matrices. We will import numpy and declare a matrix.\n",
        "\n",
        "### Import Numpy"
      ]
    },
    {
      "cell_type": "code",
      "metadata": {
        "id": "si9jtHafo7YS",
        "colab_type": "code",
        "outputId": "760f5f02-c411-4a65-da1e-b276d92dfc57",
        "colab": {
          "base_uri": "https://localhost:8080/",
          "height": 118
        }
      },
      "source": [
        "import numpy as np\n",
        "\n",
        "numpy_array = np.ones([5, 5]) #declare 5 rows and 5 columns of 1s\n",
        "print(numpy_array)\n",
        "print(numpy_array.shape)"
      ],
      "execution_count": 4,
      "outputs": [
        {
          "output_type": "stream",
          "text": [
            "[[1. 1. 1. 1. 1.]\n",
            " [1. 1. 1. 1. 1.]\n",
            " [1. 1. 1. 1. 1.]\n",
            " [1. 1. 1. 1. 1.]\n",
            " [1. 1. 1. 1. 1.]]\n",
            "(5, 5)\n"
          ],
          "name": "stdout"
        }
      ]
    },
    {
      "cell_type": "markdown",
      "metadata": {
        "id": "87Gv7TIdqcaJ",
        "colab_type": "text"
      },
      "source": [
        "We can create a numpy array from a python list. We will create a row vector"
      ]
    },
    {
      "cell_type": "code",
      "metadata": {
        "id": "vpqt7ojRpv1W",
        "colab_type": "code",
        "outputId": "6587379b-90cd-4566-c627-fabc39655879",
        "colab": {
          "base_uri": "https://localhost:8080/",
          "height": 50
        }
      },
      "source": [
        "numpy_vector = np.asarray([[3.,5.,3.,2.,2.]])\n",
        "print(numpy_vector)\n",
        "print(numpy_vector.shape)"
      ],
      "execution_count": 5,
      "outputs": [
        {
          "output_type": "stream",
          "text": [
            "[[3. 5. 3. 2. 2.]]\n",
            "(1, 5)\n"
          ],
          "name": "stdout"
        }
      ]
    },
    {
      "cell_type": "markdown",
      "metadata": {
        "id": "nnNIvpHhrJOS",
        "colab_type": "text"
      },
      "source": [
        "### Matrix Multiplication\n",
        "We can use both numpy arrays in a TensorFlow operation that will produce a tensor"
      ]
    },
    {
      "cell_type": "code",
      "metadata": {
        "id": "C1ErzgYxrFf5",
        "colab_type": "code",
        "outputId": "cfc24413-4fe6-47e9-f5fa-8286abb5e1cc",
        "colab": {
          "base_uri": "https://localhost:8080/",
          "height": 118
        }
      },
      "source": [
        "tensor = tf.matmul(numpy_array, numpy_vector.T)\n",
        "print(tensor)"
      ],
      "execution_count": 6,
      "outputs": [
        {
          "output_type": "stream",
          "text": [
            "tf.Tensor(\n",
            "[[15.]\n",
            " [15.]\n",
            " [15.]\n",
            " [15.]\n",
            " [15.]], shape=(5, 1), dtype=float64)\n"
          ],
          "name": "stdout"
        }
      ]
    },
    {
      "cell_type": "markdown",
      "metadata": {
        "id": "x3inQT1JsIXO",
        "colab_type": "text"
      },
      "source": [
        "There are a few important details to note in the operation above:\n",
        "\n",
        "*   The 5x5 matrix was generated as an array of floating point numbers, so the matrix that multiples it must use floating point numbers to avoid any errors\n",
        "*   When creating numpy_vector, we put a . after a number to make it a float\n",
        "*   When multiplying matrices, the number of rows in the first matrix must equal the number of columns in the second matrix.\n",
        "*   We apply a transpose to our second matrix to get it into the desired shape for our multiplication. Without it, we would get an error\n",
        "\n"
      ]
    },
    {
      "cell_type": "markdown",
      "metadata": {
        "id": "ai5_dAdJtb1z",
        "colab_type": "text"
      },
      "source": [
        "### Addition\n",
        "Addition requires both tensors/matrices to be of the same shape. Notice how we add a tensor and a numpy array without any explicit conversions."
      ]
    },
    {
      "cell_type": "code",
      "metadata": {
        "id": "f_n5DHOTrUsy",
        "colab_type": "code",
        "outputId": "611b3bdc-57f9-4dd8-874f-3f0334869212",
        "colab": {
          "base_uri": "https://localhost:8080/",
          "height": 118
        }
      },
      "source": [
        "tensor_2 = tf.add(tensor, numpy_vector.T)\n",
        "print(tensor_2)"
      ],
      "execution_count": 7,
      "outputs": [
        {
          "output_type": "stream",
          "text": [
            "tf.Tensor(\n",
            "[[18.]\n",
            " [20.]\n",
            " [18.]\n",
            " [17.]\n",
            " [17.]], shape=(5, 1), dtype=float64)\n"
          ],
          "name": "stdout"
        }
      ]
    },
    {
      "cell_type": "markdown",
      "metadata": {
        "id": "tXRe97MAuyZX",
        "colab_type": "text"
      },
      "source": [
        "### Broadcasting\n",
        "Broadcasting lets us use a single value in place of a vector. This will be converted into a vector of the appropriate size on the fly."
      ]
    },
    {
      "cell_type": "code",
      "metadata": {
        "id": "6kz9uPbntndJ",
        "colab_type": "code",
        "outputId": "236c7605-3943-4b8c-d702-965c1b0780ab",
        "colab": {
          "base_uri": "https://localhost:8080/",
          "height": 118
        }
      },
      "source": [
        "tensor_3 = tf.multiply(tensor_2, 3)\n",
        "print(tensor_3)"
      ],
      "execution_count": 8,
      "outputs": [
        {
          "output_type": "stream",
          "text": [
            "tf.Tensor(\n",
            "[[54.]\n",
            " [60.]\n",
            " [54.]\n",
            " [51.]\n",
            " [51.]], shape=(5, 1), dtype=float64)\n"
          ],
          "name": "stdout"
        }
      ]
    },
    {
      "cell_type": "markdown",
      "metadata": {
        "id": "Zsapw8V-vKKa",
        "colab_type": "text"
      },
      "source": [
        "### Tensors to Numpy Arrays\n",
        "When you are done working with tensors, you can convert them to numpy arrays either explicitly or implicitly"
      ]
    },
    {
      "cell_type": "code",
      "metadata": {
        "id": "r6OBZZdHvEc8",
        "colab_type": "code",
        "outputId": "74824dc3-03a8-4b5a-ecff-b3b279743f8d",
        "colab": {
          "base_uri": "https://localhost:8080/",
          "height": 101
        }
      },
      "source": [
        "print(tensor_3.numpy())"
      ],
      "execution_count": 9,
      "outputs": [
        {
          "output_type": "stream",
          "text": [
            "[[54.]\n",
            " [60.]\n",
            " [54.]\n",
            " [51.]\n",
            " [51.]]\n"
          ],
          "name": "stdout"
        }
      ]
    },
    {
      "cell_type": "code",
      "metadata": {
        "id": "NmObeQNTvdQS",
        "colab_type": "code",
        "outputId": "55fb1aa7-b150-410b-8e4a-4cca6382c82c",
        "colab": {
          "base_uri": "https://localhost:8080/",
          "height": 101
        }
      },
      "source": [
        "print(np.add(tensor_3, 9))"
      ],
      "execution_count": 10,
      "outputs": [
        {
          "output_type": "stream",
          "text": [
            "[[63.]\n",
            " [69.]\n",
            " [63.]\n",
            " [60.]\n",
            " [60.]]\n"
          ],
          "name": "stdout"
        }
      ]
    },
    {
      "cell_type": "code",
      "metadata": {
        "id": "b_qT-uG5viBM",
        "colab_type": "code",
        "colab": {}
      },
      "source": [
        ""
      ],
      "execution_count": 0,
      "outputs": []
    }
  ]
}