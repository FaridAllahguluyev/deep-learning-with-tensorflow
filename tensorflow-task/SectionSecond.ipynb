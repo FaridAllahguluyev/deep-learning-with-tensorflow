{
  "nbformat": 4,
  "nbformat_minor": 0,
  "metadata": {
    "colab": {
      "name": "Packt_1.3_2.ipynb",
      "version": "0.3.2",
      "provenance": []
    },
    "kernelspec": {
      "name": "python3",
      "display_name": "Python 3"
    }
  },
  "cells": [
    {
      "cell_type": "markdown",
      "metadata": {
        "id": "1qc8qqb4x5uq",
        "colab_type": "text"
      },
      "source": [
        "# Getting Started with TensorFlow 2.0 in 7 Days\n",
        "## 1.3 Getting Started"
      ]
    },
    {
      "cell_type": "code",
      "metadata": {
        "id": "TXKaZeCTxtAx",
        "colab_type": "code",
        "outputId": "573d16ed-e7b2-4567-af00-15fe622965a5",
        "colab": {
          "base_uri": "https://localhost:8080/",
          "height": 373
        }
      },
      "source": [
        "# install tensorflow\n",
        "!pip install tensorflow==2.0.0-beta0"
      ],
      "execution_count": 1,
      "outputs": [
        {
          "output_type": "stream",
          "text": [
            "Requirement already satisfied: tensorflow==2.0.0-beta0 in /usr/local/lib/python3.6/dist-packages (2.0.0b0)\n",
            "Requirement already satisfied: keras-applications>=1.0.6 in /usr/local/lib/python3.6/dist-packages (from tensorflow==2.0.0-beta0) (1.0.8)\n",
            "Requirement already satisfied: keras-preprocessing>=1.0.5 in /usr/local/lib/python3.6/dist-packages (from tensorflow==2.0.0-beta0) (1.1.0)\n",
            "Requirement already satisfied: six>=1.10.0 in /usr/local/lib/python3.6/dist-packages (from tensorflow==2.0.0-beta0) (1.12.0)\n",
            "Requirement already satisfied: wheel>=0.26 in /usr/local/lib/python3.6/dist-packages (from tensorflow==2.0.0-beta0) (0.33.4)\n",
            "Requirement already satisfied: astor>=0.6.0 in /usr/local/lib/python3.6/dist-packages (from tensorflow==2.0.0-beta0) (0.8.0)\n",
            "Requirement already satisfied: numpy<2.0,>=1.14.5 in /usr/local/lib/python3.6/dist-packages (from tensorflow==2.0.0-beta0) (1.16.4)\n",
            "Requirement already satisfied: grpcio>=1.8.6 in /usr/local/lib/python3.6/dist-packages (from tensorflow==2.0.0-beta0) (1.15.0)\n",
            "Requirement already satisfied: gast>=0.2.0 in /usr/local/lib/python3.6/dist-packages (from tensorflow==2.0.0-beta0) (0.2.2)\n",
            "Requirement already satisfied: tb-nightly<1.14.0a20190604,>=1.14.0a20190603 in /usr/local/lib/python3.6/dist-packages (from tensorflow==2.0.0-beta0) (1.14.0a20190603)\n",
            "Requirement already satisfied: protobuf>=3.6.1 in /usr/local/lib/python3.6/dist-packages (from tensorflow==2.0.0-beta0) (3.7.1)\n",
            "Requirement already satisfied: absl-py>=0.7.0 in /usr/local/lib/python3.6/dist-packages (from tensorflow==2.0.0-beta0) (0.7.1)\n",
            "Requirement already satisfied: tf-estimator-nightly<1.14.0.dev2019060502,>=1.14.0.dev2019060501 in /usr/local/lib/python3.6/dist-packages (from tensorflow==2.0.0-beta0) (1.14.0.dev2019060501)\n",
            "Requirement already satisfied: wrapt>=1.11.1 in /usr/local/lib/python3.6/dist-packages (from tensorflow==2.0.0-beta0) (1.11.1)\n",
            "Requirement already satisfied: termcolor>=1.1.0 in /usr/local/lib/python3.6/dist-packages (from tensorflow==2.0.0-beta0) (1.1.0)\n",
            "Requirement already satisfied: google-pasta>=0.1.6 in /usr/local/lib/python3.6/dist-packages (from tensorflow==2.0.0-beta0) (0.1.7)\n",
            "Requirement already satisfied: h5py in /usr/local/lib/python3.6/dist-packages (from keras-applications>=1.0.6->tensorflow==2.0.0-beta0) (2.8.0)\n",
            "Requirement already satisfied: setuptools>=41.0.0 in /usr/local/lib/python3.6/dist-packages (from tb-nightly<1.14.0a20190604,>=1.14.0a20190603->tensorflow==2.0.0-beta0) (41.0.1)\n",
            "Requirement already satisfied: werkzeug>=0.11.15 in /usr/local/lib/python3.6/dist-packages (from tb-nightly<1.14.0a20190604,>=1.14.0a20190603->tensorflow==2.0.0-beta0) (0.15.4)\n",
            "Requirement already satisfied: markdown>=2.6.8 in /usr/local/lib/python3.6/dist-packages (from tb-nightly<1.14.0a20190604,>=1.14.0a20190603->tensorflow==2.0.0-beta0) (3.1.1)\n"
          ],
          "name": "stdout"
        }
      ]
    },
    {
      "cell_type": "markdown",
      "metadata": {
        "id": "2K_vsnUE075z",
        "colab_type": "text"
      },
      "source": [
        "Let's start by importing the libraries we need"
      ]
    },
    {
      "cell_type": "code",
      "metadata": {
        "id": "kSeWGqf7yKV9",
        "colab_type": "code",
        "colab": {}
      },
      "source": [
        "#import tensorflow\n",
        "import tensorflow as tf\n",
        "\n",
        "#import numpy\n",
        "import numpy as np"
      ],
      "execution_count": 0,
      "outputs": []
    },
    {
      "cell_type": "markdown",
      "metadata": {
        "id": "gy1J54bQ1EJX",
        "colab_type": "text"
      },
      "source": [
        "### Functions\n",
        "we will declare a function to carry out the computation we need. This function is decorated by an annotation.\n",
        "\n",
        "We randomly generate our weights and bias from random normal distributions.\n",
        "\n",
        "We then proceed to multiply and add, just as in the equation. One thing to note is the flag `transpose_b`, which lets the equation transpose our vector into the right shape."
      ]
    },
    {
      "cell_type": "code",
      "metadata": {
        "id": "muPI1a9lyWGK",
        "colab_type": "code",
        "colab": {}
      },
      "source": [
        "@tf.function\n",
        "def predict(x):\n",
        "  # declare our weights to have the same number of columns as our input\n",
        "  w = np.random.randn(1, x.shape[1])\n",
        "  # declare our bias to have the same number of rows but only one column\n",
        "  b = np.random.randn(x.shape[0], 1)\n",
        "  #carry out the operation\n",
        "  return tf.matmul(x, w, transpose_b=True) + b"
      ],
      "execution_count": 0,
      "outputs": []
    },
    {
      "cell_type": "markdown",
      "metadata": {
        "id": "JnoMJGqu1kcL",
        "colab_type": "text"
      },
      "source": [
        "Let's generate a random set of data, which has 10 rows and 3 columns"
      ]
    },
    {
      "cell_type": "code",
      "metadata": {
        "id": "0R2h5zRqzXD_",
        "colab_type": "code",
        "outputId": "2ac03971-9c0c-49c4-b3d7-a26a0ee0f7e4",
        "colab": {
          "base_uri": "https://localhost:8080/",
          "height": 185
        }
      },
      "source": [
        "x = np.random.rand(10, 3)\n",
        "print(x)"
      ],
      "execution_count": 4,
      "outputs": [
        {
          "output_type": "stream",
          "text": [
            "[[0.95777092 0.59781054 0.56189679]\n",
            " [0.03300245 0.23049674 0.50437542]\n",
            " [0.06695024 0.49883313 0.89373107]\n",
            " [0.36277696 0.46727657 0.52489462]\n",
            " [0.116206   0.13095366 0.72898719]\n",
            " [0.01217856 0.06240508 0.95030535]\n",
            " [0.64521684 0.55436058 0.25130032]\n",
            " [0.98792327 0.41219425 0.7293995 ]\n",
            " [0.0620853  0.27391207 0.7421081 ]\n",
            " [0.61096753 0.37117045 0.6207497 ]]\n"
          ],
          "name": "stdout"
        }
      ]
    },
    {
      "cell_type": "markdown",
      "metadata": {
        "id": "6H2fRseh1r-A",
        "colab_type": "text"
      },
      "source": [
        "Let's proceed to make a prediction. Our output should have only one value for each row."
      ]
    },
    {
      "cell_type": "code",
      "metadata": {
        "id": "PIF9rMNdzed4",
        "colab_type": "code",
        "outputId": "085a4864-9edc-4bee-a594-724f463f6779",
        "colab": {
          "base_uri": "https://localhost:8080/",
          "height": 202
        }
      },
      "source": [
        "y_hat = predict(x)\n",
        "print(y_hat)"
      ],
      "execution_count": 5,
      "outputs": [
        {
          "output_type": "stream",
          "text": [
            "tf.Tensor(\n",
            "[[ 0.62051876]\n",
            " [-0.01981341]\n",
            " [-0.51990134]\n",
            " [-0.22046062]\n",
            " [-2.07524115]\n",
            " [-0.39715677]\n",
            " [-0.79238155]\n",
            " [-0.89021628]\n",
            " [ 1.46284253]\n",
            " [ 0.36686601]], shape=(10, 1), dtype=float64)\n"
          ],
          "name": "stdout"
        }
      ]
    },
    {
      "cell_type": "code",
      "metadata": {
        "id": "2-7WWjuHzlU1",
        "colab_type": "code",
        "colab": {}
      },
      "source": [
        ""
      ],
      "execution_count": 0,
      "outputs": []
    }
  ]
}